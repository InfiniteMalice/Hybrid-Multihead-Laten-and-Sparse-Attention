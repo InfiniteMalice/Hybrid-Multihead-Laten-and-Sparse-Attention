{
 "cells": [
  {
   "cell_type": "markdown",
   "metadata": {},
   "source": [
    "# Compare Sparse vs Dense Latent Attention"
   ]
  },
  {
   "cell_type": "code",
   "execution_count": null,
   "metadata": {},
   "outputs": [],
   "source": [
    "import torch\n",
    "from deepseek_latent_attention.src.core.mha_latent import LatentAttention, LatentSparseAttention\n",
    "from deepseek_latent_attention.src.core.sparse_utils import block_sparse_mask\n\n",
    "seq_len = 32\n",
    "inputs = torch.randn(1, seq_len, 128)\n",
    "dense = LatentAttention(embed_dim=128, num_heads=8)\n",
    "sparse = LatentSparseAttention(embed_dim=128, num_heads=8)\n",
    "mask = block_sparse_mask(seq_len, block_size=8)\n",
    "out_dense, _, _ = dense(inputs, inputs, inputs)\n",
    "out_sparse, _, _ = sparse(inputs, inputs, inputs, sparse_config={\"binary_mask\": mask})\n",
    "diff = (out_dense - out_sparse).norm().item()\n",
    "diff"
   ]
  }
 ],
 "metadata": {
  "kernelspec": {
   "display_name": "Python 3",
   "language": "python",
   "name": "python3"
  },
  "language_info": {
   "name": "python",
   "version": "3.x"
  }
 },
 "nbformat": 4,
 "nbformat_minor": 5
}
