{
 "cells": [
  {
   "cell_type": "markdown",
   "metadata": {},
   "source": [
    "# Demo: Latent Attention\n",
    "This notebook illustrates how to instantiate and run the latent attention layer."
   ]
  },
  {
   "cell_type": "code",
   "execution_count": null,
   "metadata": {},
   "outputs": [],
   "source": [
    "import torch\n",
    "from deepseek_latent_attention.src.core.mha_latent import LatentAttention\n\n",
    "attn = LatentAttention(embed_dim=64, num_heads=4, latent_dim_ratio=0.25)\n",
    "inputs = torch.randn(2, 16, 64)\n",
    "out, weights, stats = attn(inputs, inputs, inputs, need_weights=True)\n",
    "out.shape"
   ]
  }
 ],
 "metadata": {
  "kernelspec": {
   "display_name": "Python 3",
   "language": "python",
   "name": "python3"
  },
  "language_info": {
   "name": "python",
   "version": "3.x"
  }
 },
 "nbformat": 4,
 "nbformat_minor": 5
}
